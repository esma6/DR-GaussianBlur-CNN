{
  "nbformat": 4,
  "nbformat_minor": 0,
  "metadata": {
    "colab": {
      "provenance": [],
      "mount_file_id": "17C6zhKDnPbP3Psv14DZe7gX4EuCUL6TI",
      "authorship_tag": "ABX9TyOj7vxjJxeiIls2F/JLL2UP",
      "include_colab_link": true
    },
    "kernelspec": {
      "name": "python3",
      "display_name": "Python 3"
    },
    "language_info": {
      "name": "python"
    }
  },
  "cells": [
    {
      "cell_type": "markdown",
      "metadata": {
        "id": "view-in-github",
        "colab_type": "text"
      },
      "source": [
        "<a href=\"https://colab.research.google.com/github/esma6/DR-GaussianBlur-CNN/blob/main/Untitled1.ipynb\" target=\"_parent\"><img src=\"https://colab.research.google.com/assets/colab-badge.svg\" alt=\"Open In Colab\"/></a>"
      ]
    },
    {
      "cell_type": "code",
      "source": [
        "from google.colab import drive\n",
        "drive.mount('/content/gdrive')"
      ],
      "metadata": {
        "colab": {
          "base_uri": "https://localhost:8080/"
        },
        "id": "ieEGETJkOpNL",
        "outputId": "6ce962b1-6a72-4cce-9b0f-f5d90f5d9afa"
      },
      "execution_count": 14,
      "outputs": [
        {
          "output_type": "stream",
          "name": "stdout",
          "text": [
            "Mounted at /content/gdrive\n"
          ]
        }
      ]
    },
    {
      "cell_type": "code",
      "source": [
        "%cd gdrive/MyDrive/Datasets/"
      ],
      "metadata": {
        "colab": {
          "base_uri": "https://localhost:8080/"
        },
        "id": "1g2H8ORdQBoq",
        "outputId": "f4c85fab-da97-46f1-cab9-637aab441bd3"
      },
      "execution_count": 15,
      "outputs": [
        {
          "output_type": "stream",
          "name": "stdout",
          "text": [
            "/content/gdrive/MyDrive/Datasets\n"
          ]
        }
      ]
    },
    {
      "cell_type": "code",
      "source": [
        "# Gerekli kütüphaneler yüklenir\n",
        "import pandas as pd\n",
        "import numpy as np\n",
        "import os\n",
        "import cv2\n",
        "from sklearn.utils import shuffle\n",
        "from sklearn.model_selection import train_test_split\n",
        "from keras.models import Sequential\n",
        "from keras.layers import Dense, Dropout, Flatten, Conv2D, MaxPooling2D\n",
        "from keras.utils import to_categorical"
      ],
      "metadata": {
        "id": "0mOFVBvLQfYT"
      },
      "execution_count": 16,
      "outputs": []
    },
    {
      "cell_type": "code",
      "source": [
        "# Veri kümesi yüklenir\n",
        "train_dir = \"GaussianBlur\"\n",
        "train_csv = \"train.csv\"\n",
        "df_train = pd.read_csv(train_csv)\n"
      ],
      "metadata": {
        "id": "BQXoKNaIQh9b"
      },
      "execution_count": 17,
      "outputs": []
    },
    {
      "cell_type": "code",
      "source": [
        "# Görüntüler ve etiketler yüklenir\n",
        "x = []\n",
        "y = []\n",
        "for i, row in df_train.iterrows():\n",
        "    img_path = os.path.join(train_dir, row[\"id_code\"] + \".png\")\n",
        "    img = cv2.imread(img_path)\n",
        "    img = cv2.resize(img, (256, 256))\n",
        "    x.append(img)\n",
        "    y.append(row[\"diagnosis\"])\n",
        "x = np.array(x)\n",
        "y = np.array(y)"
      ],
      "metadata": {
        "id": "qo4cM7MURL5j"
      },
      "execution_count": 18,
      "outputs": []
    },
    {
      "cell_type": "code",
      "source": [
        "# Veri seti karıştırılır ve eğitim/test setleri oluşturulur\n",
        "x, y = shuffle(x, y, random_state=42)\n",
        "x_train, x_test, y_train, y_test = train_test_split(x, y, test_size=0.2, random_state=42)"
      ],
      "metadata": {
        "id": "cjHc4kE4Z_QA"
      },
      "execution_count": 20,
      "outputs": []
    },
    {
      "cell_type": "code",
      "source": [
        "# Etiketler kategorik hale getirilir\n",
        "y_train = to_categorical(y_train, num_classes=5)\n",
        "y_test = to_categorical(y_test, num_classes=5)"
      ],
      "metadata": {
        "id": "JBqL_BkOaHH2"
      },
      "execution_count": 21,
      "outputs": []
    },
    {
      "cell_type": "code",
      "source": [
        "# Model tanımlanır\n",
        "model = Sequential()\n",
        "model.add(Conv2D(32, kernel_size=(3, 3), activation='relu', input_shape=(256, 256, 3)))\n",
        "model.add(MaxPooling2D(pool_size=(2, 2)))\n",
        "model.add(Conv2D(64, kernel_size=(3, 3), activation='relu'))\n",
        "model.add(MaxPooling2D(pool_size=(2, 2)))\n",
        "model.add(Conv2D(128, kernel_size=(3, 3), activation='relu'))\n",
        "model.add(MaxPooling2D(pool_size=(2, 2)))\n",
        "model.add(Flatten())\n",
        "model.add(Dense(256, activation='relu'))\n",
        "model.add(Dropout(0.5))\n",
        "model.add(Dense(5, activation='softmax'))"
      ],
      "metadata": {
        "id": "lbR_SIaTaJ3H"
      },
      "execution_count": 22,
      "outputs": []
    },
    {
      "cell_type": "code",
      "source": [
        "# Model derlenir\n",
        "model.compile(loss='categorical_crossentropy', optimizer='adam', metrics=['accuracy'])"
      ],
      "metadata": {
        "id": "eAcSpRCVaMU4"
      },
      "execution_count": 23,
      "outputs": []
    },
    {
      "cell_type": "code",
      "source": [
        "model.fit(x_train, y_train, batch_size=32, epochs=10, validation_data=(x_test, y_test))"
      ],
      "metadata": {
        "colab": {
          "base_uri": "https://localhost:8080/"
        },
        "id": "BAiDeRPIaOiS",
        "outputId": "fe2f2bd8-f118-48d9-9d51-e1400aa9244b"
      },
      "execution_count": 26,
      "outputs": [
        {
          "output_type": "stream",
          "name": "stdout",
          "text": [
            "Epoch 1/10\n",
            "92/92 [==============================] - 564s 6s/step - loss: 0.7771 - accuracy: 0.7286 - val_loss: 0.8789 - val_accuracy: 0.6849\n",
            "Epoch 2/10\n",
            "92/92 [==============================] - 562s 6s/step - loss: 0.7474 - accuracy: 0.7224 - val_loss: 0.8475 - val_accuracy: 0.7053\n",
            "Epoch 3/10\n",
            "92/92 [==============================] - 560s 6s/step - loss: 0.7457 - accuracy: 0.7351 - val_loss: 0.8065 - val_accuracy: 0.6971\n",
            "Epoch 4/10\n",
            "92/92 [==============================] - 559s 6s/step - loss: 0.7327 - accuracy: 0.7337 - val_loss: 0.8667 - val_accuracy: 0.6958\n",
            "Epoch 5/10\n",
            "92/92 [==============================] - 555s 6s/step - loss: 0.7173 - accuracy: 0.7357 - val_loss: 0.8143 - val_accuracy: 0.7094\n",
            "Epoch 6/10\n",
            "92/92 [==============================] - 555s 6s/step - loss: 0.7179 - accuracy: 0.7443 - val_loss: 0.8583 - val_accuracy: 0.7094\n",
            "Epoch 7/10\n",
            "92/92 [==============================] - 559s 6s/step - loss: 0.6948 - accuracy: 0.7497 - val_loss: 0.8321 - val_accuracy: 0.7053\n",
            "Epoch 8/10\n",
            "92/92 [==============================] - 554s 6s/step - loss: 0.6770 - accuracy: 0.7518 - val_loss: 0.8425 - val_accuracy: 0.7026\n",
            "Epoch 9/10\n",
            "92/92 [==============================] - 556s 6s/step - loss: 0.6868 - accuracy: 0.7504 - val_loss: 0.8343 - val_accuracy: 0.7121\n",
            "Epoch 10/10\n",
            "92/92 [==============================] - 556s 6s/step - loss: 0.6688 - accuracy: 0.7624 - val_loss: 0.9097 - val_accuracy: 0.6944\n"
          ]
        },
        {
          "output_type": "execute_result",
          "data": {
            "text/plain": [
              "<keras.callbacks.History at 0x7fb9fed35400>"
            ]
          },
          "metadata": {},
          "execution_count": 26
        }
      ]
    },
    {
      "cell_type": "code",
      "source": [
        "score = model.evaluate(x_test, y_test, verbose=0)\n",
        "print('Test loss:', score[0])\n",
        "print('Test accuracy:', score[1])"
      ],
      "metadata": {
        "colab": {
          "base_uri": "https://localhost:8080/"
        },
        "id": "eSrtjXdXccMh",
        "outputId": "3b8cde4c-e18d-47d0-fb2d-0b405f7f546f"
      },
      "execution_count": 27,
      "outputs": [
        {
          "output_type": "stream",
          "name": "stdout",
          "text": [
            "Test loss: 0.9097422361373901\n",
            "Test accuracy: 0.6944065690040588\n"
          ]
        }
      ]
    }
  ]
}